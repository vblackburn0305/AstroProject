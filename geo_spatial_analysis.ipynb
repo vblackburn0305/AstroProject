{
 "cells": [
  {
   "cell_type": "markdown",
   "id": "b1fb5e4c",
   "metadata": {},
   "source": [
    "# Geospatial Analysis of Astronomical Data"
   ]
  },
  {
   "cell_type": "code",
   "execution_count": null,
   "id": "93515a0d",
   "metadata": {},
   "outputs": [],
   "source": [
    "\n",
    "import pandas as pd\n",
    "import numpy as np\n",
    "import matplotlib.pyplot as plt\n",
    "import seaborn as sns\n",
    "import geopandas as gpd\n",
    "from shapely.geometry import Point\n",
    "import folium\n",
    "from scipy.stats import norm\n",
    "from scipy.optimize import curve_fit\n",
    "from sklearn.cluster import DBSCAN\n",
    "from sklearn.preprocessing import StandardScaler\n",
    "from sklearn.model_selection import train_test_split\n",
    "from sklearn.metrics import accuracy_score, confusion_matrix, ConfusionMatrixDisplay, roc_curve\n",
    "from sklearn.neural_network import MLPClassifier\n"
   ]
  },
  {
   "cell_type": "markdown",
   "id": "e0848820",
   "metadata": {},
   "source": [
    "## Load and Preprocess the Data"
   ]
  },
  {
   "cell_type": "code",
   "execution_count": null,
   "id": "e2216a67",
   "metadata": {},
   "outputs": [],
   "source": [
    "\n",
    "# Load data\n",
    "file_path = '/mnt/data/skyserver-modified.csv'\n",
    "dtype_dict = {\n",
    "    \"class\": \"category\",\n",
    "    \"u\": \"float64\",      \n",
    "    \"g\": \"float64\",\n",
    "    \"r\": \"float64\",\n",
    "    \"i\": \"float64\",\n",
    "    \"z\": \"float64\",\n",
    "    \"redshift\": \"float64\",\n",
    "    \"ra\": \"float64\",\n",
    "    \"dec\": \"float64\"\n",
    "}\n",
    "df = pd.read_csv(file_path, dtype=dtype_dict)\n",
    "df.head()\n"
   ]
  },
  {
   "cell_type": "markdown",
   "id": "9939ad60",
   "metadata": {},
   "source": [
    "## Convert to Geospatial Data"
   ]
  },
  {
   "cell_type": "code",
   "execution_count": null,
   "id": "9751f8ab",
   "metadata": {},
   "outputs": [],
   "source": [
    "\n",
    "# Convert to geospatial data\n",
    "geometry = [Point(xy) for xy in zip(df['ra'], df['dec'])]\n",
    "gdf = gpd.GeoDataFrame(df, geometry=geometry, crs=\"EPSG:4326\")\n",
    "\n",
    "# Display GeoDataFrame info\n",
    "gdf.info()\n"
   ]
  },
  {
   "cell_type": "markdown",
   "id": "4ed83a3a",
   "metadata": {},
   "source": [
    "## Create an Interactive Sky Map"
   ]
  },
  {
   "cell_type": "code",
   "execution_count": null,
   "id": "b6f7d315",
   "metadata": {},
   "outputs": [],
   "source": [
    "\n",
    "# Create a folium map centered at median RA/Dec\n",
    "m = folium.Map(location=[df['dec'].median(), df['ra'].median()], zoom_start=5)\n",
    "\n",
    "# Add points to the map\n",
    "for _, row in df.iterrows():\n",
    "    folium.CircleMarker(\n",
    "        location=[row['dec'], row['ra']],\n",
    "        radius=3,\n",
    "        color='blue' if row['class'] == 'STAR' else 'green' if row['class'] == 'GALAXY' else 'red',\n",
    "        fill=True,\n",
    "        fill_opacity=0.5\n",
    "    ).add_to(m)\n",
    "\n",
    "# Save map to HTML file\n",
    "m.save(\"/mnt/data/skyserver_map.html\")\n",
    "m\n"
   ]
  },
  {
   "cell_type": "markdown",
   "id": "f1a120a4",
   "metadata": {},
   "source": [
    "## Perform Geospatial Clustering (DBSCAN)"
   ]
  },
  {
   "cell_type": "code",
   "execution_count": null,
   "id": "8a5e0f39",
   "metadata": {},
   "outputs": [],
   "source": [
    "\n",
    "# Geospatial Clustering using DBSCAN\n",
    "coords = df[['ra', 'dec']]\n",
    "scaler = StandardScaler()\n",
    "coords_scaled = scaler.fit_transform(coords)\n",
    "dbscan = DBSCAN(eps=0.3, min_samples=10)\n",
    "df['cluster'] = dbscan.fit_predict(coords_scaled)\n",
    "\n",
    "# Plot clustered data\n",
    "plt.figure(figsize=(8,6))\n",
    "sns.scatterplot(x=df['ra'], y=df['dec'], hue=df['cluster'], palette='viridis', s=10)\n",
    "plt.xlabel(\"Right Ascension (degrees)\")\n",
    "plt.ylabel(\"Declination (degrees)\")\n",
    "plt.title(\"Spatial Clustering of Astronomical Objects\")\n",
    "plt.show()\n"
   ]
  },
  {
   "cell_type": "markdown",
   "id": "796f635e",
   "metadata": {},
   "source": [
    "## Save Clustered Data"
   ]
  },
  {
   "cell_type": "code",
   "execution_count": null,
   "id": "846bd860",
   "metadata": {},
   "outputs": [],
   "source": [
    "\n",
    "# Save clustered data\n",
    "df.to_csv(\"/mnt/data/skyserver_clustered.csv\", index=False)\n"
   ]
  }
 ],
 "metadata": {},
 "nbformat": 4,
 "nbformat_minor": 5
}